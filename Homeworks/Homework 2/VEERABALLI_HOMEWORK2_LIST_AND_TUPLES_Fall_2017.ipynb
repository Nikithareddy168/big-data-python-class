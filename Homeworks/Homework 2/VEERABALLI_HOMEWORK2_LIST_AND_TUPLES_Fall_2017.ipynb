{
 "cells": [
  {
   "cell_type": "markdown",
   "metadata": {
    "collapsed": true
   },
   "source": [
    "# LISTS\n"
   ]
  },
  {
   "cell_type": "markdown",
   "metadata": {},
   "source": [
    "## What is a List?"
   ]
  },
  {
   "cell_type": "markdown",
   "metadata": {},
   "source": [
    "List is a datastructure in python which contains sequence of elements or items of any datatype. Each item in a list is assigned an index. Lists are enclosed in []. "
   ]
  },
  {
   "cell_type": "markdown",
   "metadata": {},
   "source": [
    "## Creating a list"
   ]
  },
  {
   "cell_type": "markdown",
   "metadata": {},
   "source": [
    ">> Lists can be created within squared brackets with each element or item separated by a comma.\n",
    "\n",
    "Eg.1 : list1 = ['index0','index1','index2']\n",
    "       mixList = ['one',2,true,'three']  ## List containing mixed elements"
   ]
  },
  {
   "cell_type": "markdown",
   "metadata": {},
   "source": [
    "## Operations on the lists"
   ]
  },
  {
   "cell_type": "code",
   "execution_count": 1,
   "metadata": {},
   "outputs": [
    {
     "name": "stdout",
     "output_type": "stream",
     "text": [
      "['one', 'two', 'three', 'four']\n"
     ]
    }
   ],
   "source": [
    "list1 = ['one','two','three','four']  ##  Assigning list of elements to a variable\n",
    "print list1"
   ]
  },
  {
   "cell_type": "code",
   "execution_count": 2,
   "metadata": {},
   "outputs": [
    {
     "name": "stdout",
     "output_type": "stream",
     "text": [
      "one\n",
      "four\n"
     ]
    }
   ],
   "source": [
    "print list1[0] \n",
    "print list1[3]  ## Accessing the elements in the list using the index of the element"
   ]
  },
  {
   "cell_type": "markdown",
   "metadata": {},
   "source": [
    "#### '+' and '*' operators on the lists are used to perform concatenation and repetition of the lists same like strings\n",
    "The code below shows concatenation and repetion of the lists"
   ]
  },
  {
   "cell_type": "code",
   "execution_count": 10,
   "metadata": {
    "scrolled": true
   },
   "outputs": [
    {
     "name": "stdout",
     "output_type": "stream",
     "text": [
      "('concatenation :: ', [1, 3, 4, 5, 6, 7, 'one', 'three', 'four', 'five', 'six', 'seven'])\n",
      "('repetition :: ', [1, 6, 2, 3, 1, 6, 2, 3, 1, 6, 2, 3, 1, 6, 2, 3, 1, 6, 2, 3])\n"
     ]
    }
   ],
   "source": [
    "l1 = [1,3,4,5,6,7]\n",
    "l2 = ['one','three', 'four','five', 'six', 'seven']\n",
    "l3 = [1,6,2,3]\n",
    "print(\"concatenation :: \",l1 + l2)  ## l1 and l2 will concatenate\n",
    "print(\"repetition :: \",l3 * 5)     ## list l3 will be repeated five times"
   ]
  },
  {
   "cell_type": "markdown",
   "metadata": {},
   "source": [
    "##### Learnings ::\n",
    "The '+' operator on lists will concatenate the lists like strings and '*' operator repeats the list 'n' times as specified"
   ]
  },
  {
   "cell_type": "markdown",
   "metadata": {},
   "source": [
    "## Length of the list"
   ]
  },
  {
   "cell_type": "code",
   "execution_count": 4,
   "metadata": {},
   "outputs": [
    {
     "data": {
      "text/plain": [
       "4"
      ]
     },
     "execution_count": 4,
     "metadata": {},
     "output_type": "execute_result"
    }
   ],
   "source": [
    "len(list1) ## Length of the list can be found using len() function which is an inbuilt method of list data type "
   ]
  },
  {
   "cell_type": "markdown",
   "metadata": {},
   "source": [
    "##### Reference ::\n",
    "https://www.pythonlearn.com/html-008/cfbook009.html"
   ]
  },
  {
   "cell_type": "code",
   "execution_count": 9,
   "metadata": {},
   "outputs": [
    {
     "data": {
      "text/plain": [
       "True"
      ]
     },
     "execution_count": 9,
     "metadata": {},
     "output_type": "execute_result"
    }
   ],
   "source": [
    "'five' in l2   ## Finding if an element is member of a list using \"in\" keyword"
   ]
  },
  {
   "cell_type": "markdown",
   "metadata": {},
   "source": [
    "### Using lists in 'if' statements"
   ]
  },
  {
   "cell_type": "code",
   "execution_count": 12,
   "metadata": {},
   "outputs": [
    {
     "name": "stdout",
     "output_type": "stream",
     "text": [
      "False\n"
     ]
    }
   ],
   "source": [
    "### The condition here is to find if the element in l2 is present in l3\n",
    "\n",
    "if l1[2] in l3:     \n",
    "    print \"True\"\n",
    "else:\n",
    "   print \"False\""
   ]
  },
  {
   "cell_type": "markdown",
   "metadata": {},
   "source": [
    "##### Learnings ::\n",
    "\n",
    "Elements of a list can be accessed using the index of that element and operations can be performed on them like other data types. "
   ]
  },
  {
   "cell_type": "markdown",
   "metadata": {},
   "source": [
    "### Using list in for loop\n",
    "\n",
    "There are two ways to iterate the lists using for loops.\n",
    "##### ******* First Method"
   ]
  },
  {
   "cell_type": "code",
   "execution_count": 13,
   "metadata": {},
   "outputs": [
    {
     "name": "stdout",
     "output_type": "stream",
     "text": [
      "1\n",
      "3\n",
      "4\n",
      "5\n",
      "6\n",
      "7\n"
     ]
    }
   ],
   "source": [
    "for i in l1:\n",
    "    print i"
   ]
  },
  {
   "cell_type": "markdown",
   "metadata": {},
   "source": [
    "##### ******* Second Method\n",
    "In the second method we can iterate over the list using the range function which is sequence of integers starting from zero."
   ]
  },
  {
   "cell_type": "code",
   "execution_count": 15,
   "metadata": {},
   "outputs": [
    {
     "name": "stdout",
     "output_type": "stream",
     "text": [
      "1\n",
      "3\n",
      "4\n",
      "5\n",
      "6\n",
      "7\n"
     ]
    }
   ],
   "source": [
    "for i in range(len(l1)):\n",
    "    print l1[i]"
   ]
  },
  {
   "cell_type": "markdown",
   "metadata": {},
   "source": [
    "## Lists in Lambda operation\n",
    "The advantage with the lambda operation over the list is that a function can be performed on all the elements of the list. It can be seen when the lambda is used with the map(), reduce() and filte().\n",
    "map(fun, seq) is a method which performs a function 'fun' on all the elements of a sequence 'seq'."
   ]
  },
  {
   "cell_type": "code",
   "execution_count": 18,
   "metadata": {},
   "outputs": [
    {
     "data": {
      "text/plain": [
       "[11, 13, 14, 15, 16, 17]"
      ]
     },
     "execution_count": 18,
     "metadata": {},
     "output_type": "execute_result"
    }
   ],
   "source": [
    "map(lambda x : x+10, l1)"
   ]
  },
  {
   "cell_type": "markdown",
   "metadata": {},
   "source": [
    "https://www.python-course.eu/python3_lambda.php"
   ]
  },
  {
   "cell_type": "markdown",
   "metadata": {},
   "source": [
    "## Mutability of Lists "
   ]
  },
  {
   "cell_type": "markdown",
   "metadata": {},
   "source": [
    "We use '=' operator for copying a list to a variable. This doesn't mean that the variable is replicated with the list. Here, both the variales actually point to the same list. \n",
    "let's see a small example which clearly explains the mutability concept.\n"
   ]
  },
  {
   "cell_type": "code",
   "execution_count": 29,
   "metadata": {},
   "outputs": [
    {
     "name": "stdout",
     "output_type": "stream",
     "text": [
      "['one', 'two', 'replaces']\n"
     ]
    }
   ],
   "source": [
    "ls1 = [\"one\",\"two\",\"three\"]\n",
    "newLs1 = ls1    ## copying list ls1 to newLs1. Now both newLs1 and ls1 points to the same list\n",
    "newLs1[2] = \"replaces\"  ## Index 2 element in both the lists will be \"replaces\"\n",
    "print ls1"
   ]
  },
  {
   "cell_type": "markdown",
   "metadata": {},
   "source": [
    "This is an important property of Python. Mutability is the ability for certain types of data to be changed without entirely recreating it. Using mutable data types can allow programs to operate quickly and efficiently.\n",
    "\n",
    "http://bjc.berkeley.edu/bjc-r/cur/programming/python/list_mutability.html"
   ]
  },
  {
   "cell_type": "markdown",
   "metadata": {},
   "source": [
    "# TUPLES"
   ]
  },
  {
   "cell_type": "markdown",
   "metadata": {},
   "source": [
    "Tuples are similar to lists which contains sequence of elements. The important difference between tuples and lists are that tuples are immutable unlike  lists. We cannot change the tuples. Tuples use parentheses where as lists use squared brackets.\n",
    "\n",
    "Creating tuples are similar to lists, but here in tuples the elements will be in between parentheses.\n"
   ]
  },
  {
   "cell_type": "code",
   "execution_count": 19,
   "metadata": {
    "collapsed": true
   },
   "outputs": [],
   "source": [
    "tuple1 = (1,2,3,4,5)"
   ]
  },
  {
   "cell_type": "code",
   "execution_count": null,
   "metadata": {
    "collapsed": true
   },
   "outputs": [],
   "source": [
    "tuple2 = ((2,4,5,7),(9,8,7,6)) ## Nested tuplpes"
   ]
  },
  {
   "cell_type": "code",
   "execution_count": 20,
   "metadata": {
    "collapsed": true
   },
   "outputs": [],
   "source": [
    "emptyTuple = ()"
   ]
  },
  {
   "cell_type": "markdown",
   "metadata": {},
   "source": [
    "## Accessing of tuples is also done usinfg indexing same like lists"
   ]
  },
  {
   "cell_type": "code",
   "execution_count": 23,
   "metadata": {},
   "outputs": [
    {
     "data": {
      "text/plain": [
       "4"
      ]
     },
     "execution_count": 23,
     "metadata": {},
     "output_type": "execute_result"
    }
   ],
   "source": [
    "tuple1[3]"
   ]
  },
  {
   "cell_type": "markdown",
   "metadata": {},
   "source": [
    "Operation which are performed on lists can be performes on tuples"
   ]
  },
  {
   "cell_type": "markdown",
   "metadata": {},
   "source": [
    "### Tuples using 'if' statement"
   ]
  },
  {
   "cell_type": "code",
   "execution_count": 24,
   "metadata": {},
   "outputs": [
    {
     "name": "stdout",
     "output_type": "stream",
     "text": [
      "T\n"
     ]
    }
   ],
   "source": [
    "if 4 in tuple1:\n",
    "    print \"T\"\n",
    "else:\n",
    "    print \"F\""
   ]
  },
  {
   "cell_type": "markdown",
   "metadata": {},
   "source": [
    "### Tuples in for loop\n",
    "\n",
    "Let's see an example which prints a desired element if the element is present in the tuple. Let's iterate the nested tuple using the for loop"
   ]
  },
  {
   "cell_type": "code",
   "execution_count": 27,
   "metadata": {},
   "outputs": [
    {
     "name": "stdout",
     "output_type": "stream",
     "text": [
      "4\n",
      "9\n"
     ]
    }
   ],
   "source": [
    "tuple2 = ((2,4,5,7),(9,8,7,6))  ## Nested Tuple\n",
    "for i in tuple2:\n",
    "    if 4 in i:\n",
    "        print i[1]\n",
    "    else:\n",
    "        print i[0]"
   ]
  },
  {
   "cell_type": "markdown",
   "metadata": {},
   "source": [
    "###  **** Lambda operation on tuples is similar to that of lists"
   ]
  },
  {
   "cell_type": "markdown",
   "metadata": {},
   "source": [
    "## Immutability of tuples\n",
    "\n",
    "Tuples are immutable. For instance, if we are tring to concatenate two tuples it creates a third tuple each time which is the combination of two where there is a loss of memory"
   ]
  },
  {
   "cell_type": "markdown",
   "metadata": {},
   "source": [
    "## Immutable vs Mutable"
   ]
  },
  {
   "cell_type": "markdown",
   "metadata": {},
   "source": [
    "Python objects are said to be immutable if the content of the objects cannot be changed after they are created. \n",
    "\n",
    "Examples of some immutable datatypes :\n",
    " int, float, string, tuple etc.,\n",
    "Examples of mutable datatypes:\n",
    " list, set, dictionary, byte array\n",
    " \n",
    " "
   ]
  },
  {
   "cell_type": "markdown",
   "metadata": {},
   "source": [
    "Mutabile type are efficient manytime because there won't be any loss of memory. For the immutable types there will be loss of memory."
   ]
  },
  {
   "cell_type": "markdown",
   "metadata": {},
   "source": [
    "https://codehabitude.com/2013/12/24/python-objects-mutable-vs-immutable/"
   ]
  },
  {
   "cell_type": "markdown",
   "metadata": {},
   "source": [
    "###### ******** Learnings::\n",
    "\n",
    "###### I have learnt that both lists and tuples can perform similar operations. But, the important difference between them is mutability and immutability"
   ]
  },
  {
   "cell_type": "markdown",
   "metadata": {},
   "source": [
    "### References ::\n",
    "\n",
    "http://www.pythonforbeginners.com/lists/python-lists-cheat-sheet/\n",
    "\n",
    "https://www.python-course.eu/python3_lambda.php\n",
    "\n",
    "\n",
    "https://www.tutorialspoint.com/python/python_tuples.htm\n",
    "\n",
    "\n",
    "https://www.safaribooksonline.com/library/tutorials/introduction-to-python-anon/3480/"
   ]
  }
 ],
 "metadata": {
  "kernelspec": {
   "display_name": "Python 2",
   "language": "python",
   "name": "python2"
  },
  "language_info": {
   "codemirror_mode": {
    "name": "ipython",
    "version": 2
   },
   "file_extension": ".py",
   "mimetype": "text/x-python",
   "name": "python",
   "nbconvert_exporter": "python",
   "pygments_lexer": "ipython2",
   "version": "2.7.13"
  }
 },
 "nbformat": 4,
 "nbformat_minor": 2
}
