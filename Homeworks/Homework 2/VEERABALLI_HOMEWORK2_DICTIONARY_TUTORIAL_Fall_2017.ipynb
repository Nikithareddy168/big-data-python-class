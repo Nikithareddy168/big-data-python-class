{
 "cells": [
  {
   "cell_type": "markdown",
   "metadata": {},
   "source": [
    "# Dictionaries"
   ]
  },
  {
   "cell_type": "markdown",
   "metadata": {},
   "source": [
    "Dictionary is a collection of key- value pairs. Dictionaries are accessed by keys rather than indexes like lists, tuples. Dictionaries are mostly used to store the data that can be linked together.  "
   ]
  },
  {
   "cell_type": "markdown",
   "metadata": {},
   "source": [
    "### Creating Dictionaries\n",
    "####  #1. Direct Initializing:\n"
   ]
  },
  {
   "cell_type": "code",
   "execution_count": null,
   "metadata": {
    "collapsed": true
   },
   "outputs": [],
   "source": [
    "emptyDic = {} ## Initializing an empty dictionary"
   ]
  },
  {
   "cell_type": "code",
   "execution_count": 3,
   "metadata": {
    "collapsed": true
   },
   "outputs": [],
   "source": [
    "dic1 = {1:\"one\",2:\"two\",3:\"three\"}"
   ]
  },
  {
   "cell_type": "markdown",
   "metadata": {},
   "source": [
    "####  #2. Creation of dictionary through two Lists or Tuples"
   ]
  },
  {
   "cell_type": "code",
   "execution_count": 1,
   "metadata": {},
   "outputs": [
    {
     "name": "stdout",
     "output_type": "stream",
     "text": [
      "{'lacy': 21, 'mary': 22, 'pearl': 23}\n"
     ]
    }
   ],
   "source": [
    "names = ['lacy', 'mary','pearl']\n",
    "ages = [21,22,23]\n",
    "\n",
    "dic = {}\n",
    "for i in range(len(ages)):\n",
    "    dic[names[i]] = ages[i]\n",
    "print dic"
   ]
  },
  {
   "cell_type": "markdown",
   "metadata": {},
   "source": [
    "####  #3 Python provides an inbuilt method called \"zip\" which constructs a dictionary with two parallel lists or tuples"
   ]
  },
  {
   "cell_type": "code",
   "execution_count": 2,
   "metadata": {},
   "outputs": [
    {
     "name": "stdout",
     "output_type": "stream",
     "text": [
      "{'lacy': 21, 'mary': 22, 'pearl': 23}\n"
     ]
    }
   ],
   "source": [
    "dic = dict(zip(names,ages))\n",
    "print dic"
   ]
  },
  {
   "cell_type": "markdown",
   "metadata": {},
   "source": [
    "The same approach works with tuples as well\n",
    "\n",
    "###### ****Learnings ::  \n",
    "I have learnt how to create or link two lists or tuples as a key value pair\n",
    "\n",
    "###### Reference :  https://developmentality.wordpress.com/2012/03/30/three-ways-of-creating-dictionaries-in-python/"
   ]
  },
  {
   "cell_type": "markdown",
   "metadata": {},
   "source": [
    "### Accessing values in a dictionary\n",
    "Values in a dictionary can be accessed by using key but keys cannot be accessed by values"
   ]
  },
  {
   "cell_type": "code",
   "execution_count": 4,
   "metadata": {},
   "outputs": [
    {
     "name": "stdout",
     "output_type": "stream",
     "text": [
      "three\n"
     ]
    }
   ],
   "source": [
    "print dic1[3]  ## Accessing the values of 3 in dic1"
   ]
  },
  {
   "cell_type": "raw",
   "metadata": {},
   "source": [
    "To get all the keys of the dictionaries we can use dictionaryName.keys() "
   ]
  },
  {
   "cell_type": "code",
   "execution_count": 5,
   "metadata": {},
   "outputs": [
    {
     "name": "stdout",
     "output_type": "stream",
     "text": [
      "[1, 2, 3]\n"
     ]
    }
   ],
   "source": [
    "print dic1.keys()"
   ]
  },
  {
   "cell_type": "markdown",
   "metadata": {},
   "source": [
    "### Adding , updating  and removing a value in the dictionary"
   ]
  },
  {
   "cell_type": "code",
   "execution_count": 9,
   "metadata": {},
   "outputs": [
    {
     "name": "stdout",
     "output_type": "stream",
     "text": [
      "{1: 'one', 2: 'new2', 3: 'three'}\n"
     ]
    }
   ],
   "source": [
    "dic1[4] = \"four\"\n",
    "dic1[2] = \"new2\"\n",
    "del dic1[4]\n",
    "print dic1"
   ]
  },
  {
   "cell_type": "markdown",
   "metadata": {},
   "source": [
    "#####  *** I have added \"four\" to the dic1 and updated element in index 2 with \"new2\". \"Del\" removes the desired value from the dictionary"
   ]
  },
  {
   "cell_type": "markdown",
   "metadata": {},
   "source": [
    "### Length of the dictionary"
   ]
  },
  {
   "cell_type": "code",
   "execution_count": 10,
   "metadata": {},
   "outputs": [
    {
     "name": "stdout",
     "output_type": "stream",
     "text": [
      "3\n"
     ]
    }
   ],
   "source": [
    "print len(dic1)"
   ]
  },
  {
   "cell_type": "code",
   "execution_count": 17,
   "metadata": {},
   "outputs": [
    {
     "name": "stdout",
     "output_type": "stream",
     "text": [
      "[2, 4, 9]\n"
     ]
    }
   ],
   "source": [
    "unsortedDic = {4 : \"four\", 9 : \"nine\", 2 : \"two\"}\n",
    "print sorted(unsortedDic)"
   ]
  },
  {
   "cell_type": "markdown",
   "metadata": {},
   "source": [
    "#### Merging of dictionaries"
   ]
  },
  {
   "cell_type": "code",
   "execution_count": 4,
   "metadata": {},
   "outputs": [
    {
     "name": "stdout",
     "output_type": "stream",
     "text": [
      "{2: 'two', 4: 'four', 6: 'six', 9: 'nine', 10: 'ten'}\n"
     ]
    }
   ],
   "source": [
    "updateDic = {4 : \"four\", 9 : \"nine\", 2 : \"two\"}\n",
    "testDic = {6:\"six\", 4:\"newFour\", 10:\"ten\"}\n",
    "updateDic.update(testDic)\n",
    "print updateDic"
   ]
  },
  {
   "cell_type": "markdown",
   "metadata": {},
   "source": [
    "##### ****Learnings :\n",
    "From this I understood that updating one dictionary with another dictionary overides the dictionary if both has same keys. In the above case it's key : 4 which is \"newFour\" after merging the dictionary.\n",
    "\n",
    "###### ******Another thing which I noticed above is that dictionary always gets printed in the sorted order of their keys. ******"
   ]
  },
  {
   "cell_type": "markdown",
   "metadata": {},
   "source": [
    "#### Sorting of Dictionaries"
   ]
  },
  {
   "cell_type": "code",
   "execution_count": 17,
   "metadata": {},
   "outputs": [
    {
     "name": "stdout",
     "output_type": "stream",
     "text": [
      "[2, 4, 9]\n"
     ]
    }
   ],
   "source": [
    "unsortedDic = {4 : \"four\", 9 : \"nine\", 2 : \"two\"}\n",
    "print sorted(unsortedDic)"
   ]
  },
  {
   "cell_type": "markdown",
   "metadata": {},
   "source": [
    "### Using dictionaries in if statement"
   ]
  },
  {
   "cell_type": "code",
   "execution_count": 18,
   "metadata": {},
   "outputs": [
    {
     "name": "stdout",
     "output_type": "stream",
     "text": [
      "false\n"
     ]
    }
   ],
   "source": [
    "if 4 in dic1:\n",
    "    print \"True\"\n",
    "else:\n",
    "    print \"false\""
   ]
  },
  {
   "cell_type": "markdown",
   "metadata": {},
   "source": [
    "##### ******In the above snippet of code use of dictionaries in if statement is shown. If the value 4 is present in the dictionary as a key then if prints \"True\" else \"False\" ******"
   ]
  },
  {
   "cell_type": "markdown",
   "metadata": {},
   "source": [
    "### Using dictionaries in for loop\n",
    "\n",
    "#### #1 iteration over keys "
   ]
  },
  {
   "cell_type": "code",
   "execution_count": 13,
   "metadata": {},
   "outputs": [
    {
     "name": "stdout",
     "output_type": "stream",
     "text": [
      "T\n"
     ]
    }
   ],
   "source": [
    "for i in dic1:\n",
    "    if 2 in dic1:\n",
    "        print \"T\"\n",
    "        break\n",
    "    else:\n",
    "        print \"F\""
   ]
  },
  {
   "cell_type": "markdown",
   "metadata": {},
   "source": [
    "Here by default if iterates over keys of the dictionary. The other way through which we can iterate over keys is by using keys() as shown below."
   ]
  },
  {
   "cell_type": "code",
   "execution_count": 6,
   "metadata": {},
   "outputs": [
    {
     "name": "stdout",
     "output_type": "stream",
     "text": [
      "1\n",
      "2\n",
      "3\n"
     ]
    }
   ],
   "source": [
    "dic1 = {1:\"one\",2:\"two\",3:\"three\"}\n",
    "for i in dic1.keys():\n",
    "    print i"
   ]
  },
  {
   "cell_type": "markdown",
   "metadata": {},
   "source": [
    "Here we are explicitly printing keys in the dictionary."
   ]
  },
  {
   "cell_type": "markdown",
   "metadata": {},
   "source": [
    "#### #2 iteration over values "
   ]
  },
  {
   "cell_type": "code",
   "execution_count": 7,
   "metadata": {},
   "outputs": [
    {
     "name": "stdout",
     "output_type": "stream",
     "text": [
      "one\n",
      "two\n",
      "three\n"
     ]
    }
   ],
   "source": [
    "for i in dic1.values():\n",
    "    print i"
   ]
  },
  {
   "cell_type": "markdown",
   "metadata": {},
   "source": [
    "Here we are explicitly printing values in the dictionary"
   ]
  },
  {
   "cell_type": "markdown",
   "metadata": {},
   "source": [
    "#### #3 iteration over both keys and values"
   ]
  },
  {
   "cell_type": "code",
   "execution_count": 15,
   "metadata": {},
   "outputs": [
    {
     "name": "stdout",
     "output_type": "stream",
     "text": [
      "1 :: one\n",
      "2 :: new2\n",
      "3 :: three\n"
     ]
    }
   ],
   "source": [
    "for key, val in dic1.items():\n",
    "    print key, \"::\" ,val"
   ]
  },
  {
   "cell_type": "markdown",
   "metadata": {},
   "source": [
    "###### Reference : http://www.makeuseof.com/tag/properly-use-python-dictionary/"
   ]
  },
  {
   "cell_type": "markdown",
   "metadata": {},
   "source": [
    "### Merging of dictionaries "
   ]
  },
  {
   "cell_type": "code",
   "execution_count": 19,
   "metadata": {},
   "outputs": [
    {
     "name": "stdout",
     "output_type": "stream",
     "text": [
      "None\n"
     ]
    }
   ],
   "source": [
    "d1 = {1:\"one\",2:\"two\"}\n",
    "d2 = {2 : \"new2\", 3 : \"three\" }\n",
    "\n",
    "d3 = d1.copy()\n",
    "print d3.update(d2)"
   ]
  },
  {
   "cell_type": "markdown",
   "metadata": {},
   "source": [
    "# Regular Expressions in Python"
   ]
  },
  {
   "cell_type": "markdown",
   "metadata": {},
   "source": [
    "Regular expressions are used to match sequence of charachters which helps in matching patterns in strings or files. \n",
    "To use Regular expression we must import it using \n",
    "\"import re\"\n",
    "\n",
    "###### Syntax for regular expression\n",
    "\n",
    "re.match(pattern, string)\n",
    "\n",
    "pattern : This is the regular expression that has to be matched\n",
    "string : string on which regular expression is applied\n"
   ]
  },
  {
   "cell_type": "code",
   "execution_count": 21,
   "metadata": {},
   "outputs": [
    {
     "name": "stdout",
     "output_type": "stream",
     "text": [
      "<_sre.SRE_Match object at 0x00000000065BB8B8>\n"
     ]
    }
   ],
   "source": [
    "import re\n",
    "str1 = \"your num is 123\"\n",
    "m = re.search(r\"\\d+\", str1)\n",
    "print m"
   ]
  },
  {
   "cell_type": "code",
   "execution_count": null,
   "metadata": {
    "collapsed": true
   },
   "outputs": [],
   "source": []
  }
 ],
 "metadata": {
  "kernelspec": {
   "display_name": "Python 2",
   "language": "python",
   "name": "python2"
  },
  "language_info": {
   "codemirror_mode": {
    "name": "ipython",
    "version": 2
   },
   "file_extension": ".py",
   "mimetype": "text/x-python",
   "name": "python",
   "nbconvert_exporter": "python",
   "pygments_lexer": "ipython2",
   "version": "2.7.13"
  }
 },
 "nbformat": 4,
 "nbformat_minor": 2
}
