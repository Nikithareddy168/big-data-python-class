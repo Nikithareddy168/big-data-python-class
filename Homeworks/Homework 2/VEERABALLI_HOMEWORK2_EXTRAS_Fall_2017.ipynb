{
 "cells": [
  {
   "cell_type": "markdown",
   "metadata": {},
   "source": [
    "# Regular expressions"
   ]
  },
  {
   "cell_type": "markdown",
   "metadata": {},
   "source": [
    "Regular expressions are used to match sequence of charachters which helps in matching string or substrings. Regular expressions use meta characters like '/',' $', '*' ..... etc., and literals like a,b,1,2...etc.,"
   ]
  },
  {
   "cell_type": "markdown",
   "metadata": {},
   "source": [
    "##### To use Regular expression we must import it using  \"import re\""
   ]
  },
  {
   "cell_type": "markdown",
   "metadata": {},
   "source": [
    "\"Re\" provides many methods to find pattern. Few of them are \n",
    "\n",
    "re.match()\n",
    "\n",
    "re.findall()\n",
    "\n",
    "re.split()\n",
    "\n",
    "re.sub()\n",
    "\n",
    "re.search()"
   ]
  },
  {
   "cell_type": "markdown",
   "metadata": {},
   "source": [
    "##### re.match()::\n",
    "\n",
    "This method finds the pattern required if it occurs at starting of the string."
   ]
  },
  {
   "cell_type": "markdown",
   "metadata": {},
   "source": [
    "import re\n",
    "result = re.match('The', 'The sky is blue')\n",
    "result1 = re.match('sky', 'The sky is blue')\n",
    "print result.group()\n",
    "print result1"
   ]
  },
  {
   "cell_type": "markdown",
   "metadata": {},
   "source": [
    "The raw string can be retrieved by using group() method. When we try to match sky in the above string it gives none as the output"
   ]
  },
  {
   "cell_type": "markdown",
   "metadata": {},
   "source": [
    "##### re.search()::\n",
    "\n",
    "This method doesn't restrict to the beginning of the string. It finds any pattern through out the string"
   ]
  },
  {
   "cell_type": "code",
   "execution_count": 13,
   "metadata": {},
   "outputs": [
    {
     "name": "stdout",
     "output_type": "stream",
     "text": [
      "sky\n"
     ]
    }
   ],
   "source": [
    "result = re.search('sky', 'The sky is blue')\n",
    "print result.group(0)"
   ]
  },
  {
   "cell_type": "markdown",
   "metadata": {},
   "source": [
    "##### re.findall() ::\n",
    "\n",
    "This method returns list of all the occurences of the pattern irrespective of the start and ed of the string."
   ]
  },
  {
   "cell_type": "code",
   "execution_count": 9,
   "metadata": {},
   "outputs": [
    {
     "name": "stdout",
     "output_type": "stream",
     "text": [
      "['sky', 'sky']\n"
     ]
    }
   ],
   "source": [
    "result = re.findall('sky', 'The sky is sky blue')\n",
    "print result"
   ]
  },
  {
   "cell_type": "markdown",
   "metadata": {},
   "source": [
    "##### re.split()::\n"
   ]
  },
  {
   "cell_type": "markdown",
   "metadata": {
    "collapsed": true
   },
   "source": [
    "This method splits the string with the pattern if found in the string"
   ]
  },
  {
   "cell_type": "markdown",
   "metadata": {},
   "source": [
    "##### Example 1"
   ]
  },
  {
   "cell_type": "code",
   "execution_count": 4,
   "metadata": {},
   "outputs": [
    {
     "name": "stdout",
     "output_type": "stream",
     "text": [
      "['The sky ', ' sky blue']\n"
     ]
    }
   ],
   "source": [
    "import re\n",
    "result = re.split('is', 'The sky is sky blue')\n",
    "print result"
   ]
  },
  {
   "cell_type": "markdown",
   "metadata": {},
   "source": [
    "###### Exaample 2"
   ]
  },
  {
   "cell_type": "code",
   "execution_count": 5,
   "metadata": {},
   "outputs": [
    {
     "name": "stdout",
     "output_type": "stream",
     "text": [
      "['The ', ' is ', ' blue']\n"
     ]
    }
   ],
   "source": [
    "import re\n",
    "result = re.split('sky', 'The sky is sky blue')\n",
    "print result"
   ]
  },
  {
   "cell_type": "markdown",
   "metadata": {},
   "source": [
    "##### *******Learnings ::\n",
    "Firstly, I tried by taking pattern 'is' which occurs only once in the string. In this case, the string splits with the 'is' pattern. From the second example I noticed that, if the pattern occurs twice in the string, it splits the string into the number of times the pattern occurs in the string."
   ]
  },
  {
   "cell_type": "markdown",
   "metadata": {},
   "source": [
    "##### re.sub() ::"
   ]
  },
  {
   "cell_type": "markdown",
   "metadata": {},
   "source": [
    "This method searches for the pattern and replaces the pattern with the given word in the string. If the pattern is not found then the original string itself is returned\n",
    "\n",
    "re.sub(pattern, repl, string)"
   ]
  },
  {
   "cell_type": "code",
   "execution_count": 6,
   "metadata": {},
   "outputs": [
    {
     "name": "stdout",
     "output_type": "stream",
     "text": [
      "The water is water blue\n"
     ]
    }
   ],
   "source": [
    "import re\n",
    "result = re.sub('sky','water', 'The sky is sky blue')\n",
    "print result"
   ]
  },
  {
   "cell_type": "markdown",
   "metadata": {},
   "source": [
    "### Few examples of regular expressions"
   ]
  },
  {
   "cell_type": "markdown",
   "metadata": {},
   "source": [
    "##### #1. Extracting digits from the string "
   ]
  },
  {
   "cell_type": "code",
   "execution_count": 9,
   "metadata": {},
   "outputs": [
    {
     "name": "stdout",
     "output_type": "stream",
     "text": [
      "['6', '2', '1', '0', '9']\n"
     ]
    }
   ],
   "source": [
    "import re\n",
    "result = re.findall('\\d', 'my favourite numbers are 6,2,10 and 9')\n",
    "print result"
   ]
  },
  {
   "cell_type": "code",
   "execution_count": 10,
   "metadata": {},
   "outputs": [
    {
     "name": "stdout",
     "output_type": "stream",
     "text": [
      "['10']\n"
     ]
    }
   ],
   "source": [
    "import re\n",
    "result = re.findall('\\d{2}', 'my favourite numbers are 6,2,10 and 9')\n",
    "print result"
   ]
  },
  {
   "cell_type": "markdown",
   "metadata": {},
   "source": [
    "##### Learnings ::\n",
    "From the first example I noticed that if we give '\\d' then we get all the single digits i.e if there is a 10 then it gives the output as '1','0'. In the second example if we give the number of digits that has to be grouped then it prints the desired result. In the above case we get '10'as we gave the pattern to be grouped into 2 "
   ]
  },
  {
   "cell_type": "markdown",
   "metadata": {},
   "source": [
    "##### #2.Extracting domain type of gmail ids"
   ]
  },
  {
   "cell_type": "code",
   "execution_count": 11,
   "metadata": {},
   "outputs": [
    {
     "name": "stdout",
     "output_type": "stream",
     "text": [
      "['@gmail', '@test', '@analyticsvidhya', '@rest']\n",
      "['@gmail.com', '@test.in', '@analyticsvidhya.com', '@rest.biz']\n"
     ]
    }
   ],
   "source": [
    "result=re.findall(r'@\\w+','abc.test@gmail.com, xyz@test.in, test.first@analyticsvidhya.com, first.test@rest.biz') \n",
    "result1=re.findall(r'@\\w+.\\w+','abc.test@gmail.com, xyz@test.in, test.first@analyticsvidhya.com, first.test@rest.biz') \n",
    "print result \n",
    "print result1"
   ]
  },
  {
   "cell_type": "markdown",
   "metadata": {},
   "source": [
    "##### Learnings ::\n",
    "\n",
    "In the first case we just get the domain type but the part after '.' is not printed. In 'resu.lt1' we get the part that is after '.'."
   ]
  },
  {
   "cell_type": "markdown",
   "metadata": {},
   "source": [
    "##### ******** References ::\n",
    "https://www.analyticsvidhya.com/blog/2015/06/regular-expression-python/"
   ]
  },
  {
   "cell_type": "markdown",
   "metadata": {},
   "source": [
    "## Zip and Unzipping "
   ]
  },
  {
   "cell_type": "markdown",
   "metadata": {},
   "source": [
    "Zip takes two equal length collections and merges them into pairs. "
   ]
  },
  {
   "cell_type": "code",
   "execution_count": 17,
   "metadata": {},
   "outputs": [
    {
     "data": {
      "text/plain": [
       "[(1, 2), (2, 1), (3, 2)]"
      ]
     },
     "execution_count": 17,
     "metadata": {},
     "output_type": "execute_result"
    }
   ],
   "source": [
    "l1 = [1,2,3,4,4]\n",
    "l2 = [2,1,2,3,3]\n",
    "l3 = [2,1,2]\n",
    "zip(l1,l2)\n",
    "zip(l1,l3)"
   ]
  },
  {
   "cell_type": "markdown",
   "metadata": {},
   "source": [
    "###### Learnings ::\n"
   ]
  },
  {
   "cell_type": "markdown",
   "metadata": {},
   "source": [
    "I found that zipping first time will pair up the lists l1 and l2 into tuples, whereas after zipping it again with other list the lastest one will override the previous zip.\n",
    "\n",
    "I noticed that zipping two unequal lists will make the possible tuple with the smallest possible pair."
   ]
  },
  {
   "cell_type": "markdown",
   "metadata": {},
   "source": [
    "##### References ::\n",
    "https://bradmontgomery.net/blog/pythons-zip-map-and-lambda/"
   ]
  },
  {
   "cell_type": "markdown",
   "metadata": {},
   "source": [
    "#### Unzipping tuples into individual lists"
   ]
  },
  {
   "cell_type": "code",
   "execution_count": 24,
   "metadata": {},
   "outputs": [
    {
     "name": "stdout",
     "output_type": "stream",
     "text": [
      "('tuple================', [(1, 2), (2, 1), (3, 2), (4, 3), (4, 3)])\n",
      "('unzipped lists=================', [(1, 2, 3, 4, 4), (2, 1, 2, 3, 3)])\n"
     ]
    }
   ],
   "source": [
    "l1 = [1,2,3,4,4]\n",
    "l2 = [2,1,2,3,3]\n",
    "\n",
    "tup = zip(l1,l2)\n",
    "print(\"tuple================\",tup)\n",
    "print(\"unzipped lists=================\",zip(*tup))"
   ]
  },
  {
   "cell_type": "markdown",
   "metadata": {},
   "source": [
    "I have taken 2 seperate lists and zipped it. Then I unzipped it using * operator with the list. By applying * the tuple first applies zip function and pairs with 1 with 2 with 3 with 4 with 4. This repeats for the other elements as well."
   ]
  },
  {
   "cell_type": "markdown",
   "metadata": {},
   "source": [
    "## Map\n",
    "\n",
    "Map applies a function to all items of the list\n",
    "\n",
    "map(function_to_apply, list_of_inputs)"
   ]
  },
  {
   "cell_type": "markdown",
   "metadata": {},
   "source": [
    "#### Example that performs square of the numbers in the list"
   ]
  },
  {
   "cell_type": "code",
   "execution_count": 26,
   "metadata": {},
   "outputs": [
    {
     "name": "stdout",
     "output_type": "stream",
     "text": [
      "[1, 4, 9, 16, 25]\n"
     ]
    }
   ],
   "source": [
    "items = [1, 2, 3, 4, 5]\n",
    "squared = []\n",
    "for i in items:\n",
    "    squared.append(i**2)\n",
    "print squared"
   ]
  },
  {
   "cell_type": "markdown",
   "metadata": {},
   "source": [
    "In the above code we use for loop for which we are appending it to the list"
   ]
  },
  {
   "cell_type": "code",
   "execution_count": 27,
   "metadata": {},
   "outputs": [
    {
     "name": "stdout",
     "output_type": "stream",
     "text": [
      "[1, 4, 9, 16, 25]\n"
     ]
    }
   ],
   "source": [
    "items = [1, 2, 3, 4, 5]\n",
    "squared = list(map(lambda x: x**2, items))\n",
    "print squared"
   ]
  },
  {
   "cell_type": "markdown",
   "metadata": {},
   "source": [
    "map iterates the function over the all elements of list"
   ]
  },
  {
   "cell_type": "markdown",
   "metadata": {},
   "source": [
    "## args and kwargs"
   ]
  },
  {
   "cell_type": "markdown",
   "metadata": {},
   "source": [
    "*args and *****kargs  allows us to pass variable number of arguments to a function. These are usually used when we don't know before hand the variables that need to be passed.\n",
    "\n",
    "###### example for *args ::"
   ]
  },
  {
   "cell_type": "code",
   "execution_count": 33,
   "metadata": {},
   "outputs": [
    {
     "name": "stdout",
     "output_type": "stream",
     "text": [
      "('args are ==========================', 'banana')\n",
      "('args are ==========================', 'lemon')\n",
      "('args are ==========================', 'carrot')\n",
      "('args are ==========================', 'cat')\n"
     ]
    }
   ],
   "source": [
    "def argv_demo(x,*argv):\n",
    "    for i in argv:\n",
    "        print(\"args are ==========================\",i)\n",
    "\n",
    "argv_demo('lion','banana','lemon','carrot','cat')\n",
    "        "
   ]
  },
  {
   "cell_type": "markdown",
   "metadata": {},
   "source": [
    "##### Learnings ::\n",
    "I found this similar to the command line arguments in C programming languages. This is helpful when we don't know how many arguments are required before hand"
   ]
  },
  {
   "cell_type": "markdown",
   "metadata": {},
   "source": [
    "###### example for **kwargs"
   ]
  },
  {
   "cell_type": "code",
   "execution_count": 36,
   "metadata": {},
   "outputs": [
    {
     "name": "stdout",
     "output_type": "stream",
     "text": [
      "two == 2\n",
      "one == 1\n"
     ]
    }
   ],
   "source": [
    "def kwargs_demo(**kwargs):\n",
    "        for key, value in kwargs.iteritems():\n",
    "            print \"%s == %s\" %(key,value)\n",
    "kwargs_demo(one = \"1\",two=\"2\")"
   ]
  },
  {
   "cell_type": "markdown",
   "metadata": {},
   "source": [
    "In case of *********kwargs, we can pass the keyworded parameters in the funtion. "
   ]
  },
  {
   "cell_type": "markdown",
   "metadata": {},
   "source": [
    "##### ******** Note ::  To use formal arguments, *args , **kwargs in single function the order is \" some_func(fargs,args,******kwargs) \""
   ]
  },
  {
   "cell_type": "markdown",
   "metadata": {},
   "source": [
    "##### *****Reference :: I found this link interesting for beginners\n",
    "\n",
    "https://pythontips.com/2013/08/04/args-and-kwargs-in-python-explained/"
   ]
  }
 ],
 "metadata": {
  "kernelspec": {
   "display_name": "Python 2",
   "language": "python",
   "name": "python2"
  },
  "language_info": {
   "codemirror_mode": {
    "name": "ipython",
    "version": 2
   },
   "file_extension": ".py",
   "mimetype": "text/x-python",
   "name": "python",
   "nbconvert_exporter": "python",
   "pygments_lexer": "ipython2",
   "version": "2.7.13"
  }
 },
 "nbformat": 4,
 "nbformat_minor": 2
}
