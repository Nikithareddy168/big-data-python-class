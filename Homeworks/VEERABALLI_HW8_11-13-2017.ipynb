{
 "cells": [
  {
   "cell_type": "markdown",
   "metadata": {},
   "source": [
    "Create an ipython notebook to provide a tutorial showing the steps to use a clustering algorithm from one of the following:\n",
    "http://scikit-learn.org/stable/modules/clustering.html\n",
    "\n",
    "or \n",
    "\n",
    "asscociation rules algorithm from:\n",
    "\n",
    "https://github.com/asaini/Apriori\n",
    "\n",
    "or\n",
    "\n",
    "http://aimotion.blogspot.com/2013/01/machine-learning-and-data-mining.html\n",
    "\n",
    "Your tutorial will  include\n",
    "\n",
    "1. a short description of what the algorithm is used for ( and of the code to be used )\n",
    "\n",
    "2, Data setup\n",
    "\n",
    "3. Algorithm run\n",
    "\n",
    "4. Display in graph and plots\n",
    "\n",
    "5. Discussion of the images in the graphs and plots\n",
    "\n",
    "6. Bibliography ( urls and names of pages and authors of used code and descriptions )"
   ]
  },
  {
   "cell_type": "code",
   "execution_count": null,
   "metadata": {
    "collapsed": true
   },
   "outputs": [],
   "source": []
  }
 ],
 "metadata": {
  "kernelspec": {
   "display_name": "Python 2",
   "language": "python",
   "name": "python2"
  },
  "language_info": {
   "codemirror_mode": {
    "name": "ipython",
    "version": 2
   },
   "file_extension": ".py",
   "mimetype": "text/x-python",
   "name": "python",
   "nbconvert_exporter": "python",
   "pygments_lexer": "ipython2",
   "version": "2.7.13"
  }
 },
 "nbformat": 4,
 "nbformat_minor": 2
}
